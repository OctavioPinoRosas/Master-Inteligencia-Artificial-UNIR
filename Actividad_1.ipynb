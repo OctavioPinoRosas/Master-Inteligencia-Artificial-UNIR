{
 "cells": [
  {
   "cell_type": "markdown",
   "id": "39918eee",
   "metadata": {},
   "source": [
    "# Uso de filtros y contornos para la localización de placas en imágenes de coches\n",
    "## 1.\tEn el siguiente código vamos a leer la imagen de un coche tanto a color como en niveles de gris, responde correctamente cuáles son los valores correctos que arroja alto 1 y ancho 1 y cuántos canales tiene:"
   ]
  },
  {
   "cell_type": "code",
   "execution_count": 13,
   "id": "81132579",
   "metadata": {},
   "outputs": [
    {
     "name": "stdout",
     "output_type": "stream",
     "text": [
      "Alto1:  248 ancho1:  400 canales:  3\n",
      "Alto2:  248 ancho2:  400\n"
     ]
    }
   ],
   "source": [
    "import cv2 as cv\n",
    "\n",
    "img01=cv.imread('Imagenes/cars96.png')\n",
    "img02=cv.imread('Imagenes/cars96.png',cv.IMREAD_GRAYSCALE)\n",
    "alto1, ancho1, canales1  = img01.shape\n",
    "alto2, ancho2  = img02.shape\n",
    "\n",
    "print(\"Alto1: \", alto1, \"ancho1: \", ancho1, \"canales: \", canales1)\n",
    "print(\"Alto2: \", alto2, \"ancho2: \", ancho2)\n",
    "\n",
    "cv.imshow(\"img01\",img01)\n",
    "cv.imshow(\"img02\",img02)\n",
    "cv.waitKey(0)\n",
    "cv.destroyAllWindows()"
   ]
  },
  {
   "cell_type": "markdown",
   "id": "67120672",
   "metadata": {},
   "source": [
    "A. 248x400, 1 canal.  \n",
    "**B. 248 x 400, 3 canales.✅**  \n",
    "C. 320 x 460, 3 canales.  \n",
    "D. 248 x 420, 1 canal.  "
   ]
  },
  {
   "cell_type": "markdown",
   "id": "e6a0c504",
   "metadata": {},
   "source": [
    "## 2.\tEl kernel aplicado a la imagen cars3.png es un filtro espacial____, y el resultado es la imagen:"
   ]
  },
  {
   "cell_type": "code",
   "execution_count": 14,
   "id": "cd598920",
   "metadata": {},
   "outputs": [
    {
     "data": {
      "text/plain": [
       "True"
      ]
     },
     "execution_count": 14,
     "metadata": {},
     "output_type": "execute_result"
    }
   ],
   "source": [
    "import cv2 as cv\n",
    "import numpy as np\n",
    "\n",
    "img_gris=cv.imread('Imagenes/cars3.png',cv.IMREAD_GRAYSCALE)\n",
    "\n",
    "kernel = np.array([[-1,-1,-1],\n",
    "                   [-1, 8,-1],\n",
    "                   [-1,-1,-1]])\n",
    "\n",
    "img_ker = cv.filter2D(src=img_gris, ddepth=-1, kernel=kernel)\n",
    "\n",
    "cv.imshow('Imagen con kernel', img_ker)\n",
    "cv.waitKey(0)\n",
    "cv.destroyAllWindows()\n",
    "cv.imwrite('ResultadoImagenes/2-kernel.png',img_ker)"
   ]
  },
  {
   "cell_type": "markdown",
   "id": "af1688ed",
   "metadata": {},
   "source": [
    "Pasa  \n",
    "![Pasa ](ResultadoImagenes/kernel.png)"
   ]
  },
  {
   "cell_type": "markdown",
   "id": "cd239920",
   "metadata": {},
   "source": [
    "## 3.\tEl kernel aplicado a la imagen es un filtro ________ y se aplica principalmente para _________________. La imagen resultante es:"
   ]
  },
  {
   "cell_type": "code",
   "execution_count": 15,
   "id": "c17cc549",
   "metadata": {},
   "outputs": [
    {
     "data": {
      "text/plain": [
       "True"
      ]
     },
     "execution_count": 15,
     "metadata": {},
     "output_type": "execute_result"
    }
   ],
   "source": [
    "import cv2 as cv\n",
    "\n",
    "img_gris = cv.imread('Imagenes/cars296.png',cv.IMREAD_GRAYSCALE)\n",
    "kernel = cv.GaussianBlur(img_gris, (9, 9), 0)\n",
    "\n",
    "cv.imshow(\"Imagen\",img_gris)\n",
    "cv.imshow(\"Imagen con filtro\", kernel)\n",
    "cv.waitKey(0)\n",
    "cv.destroyAllWindows()\n",
    "cv.imwrite('ResultadoImagenes/3-GaussianBlur.png',kernel)"
   ]
  },
  {
   "cell_type": "markdown",
   "id": "5b94d32e",
   "metadata": {},
   "source": [
    "![](ResultadoImagenes\\3-GaussianBlur.png)"
   ]
  },
  {
   "cell_type": "markdown",
   "id": "40aee0ff",
   "metadata": {},
   "source": [
    "## 4.\tEl objetivo de la ecualización de imágenes es ________. El resultado al aplicar ecualización a la imagen coche11.jpg es:"
   ]
  },
  {
   "cell_type": "code",
   "execution_count": 16,
   "id": "d27b6a17",
   "metadata": {},
   "outputs": [
    {
     "data": {
      "text/plain": [
       "True"
      ]
     },
     "execution_count": 16,
     "metadata": {},
     "output_type": "execute_result"
    }
   ],
   "source": [
    "# Cargar la imagen en color\n",
    "import cv2 as cv\n",
    "img = cv.imread('Imagenes/coche11.jpeg')\n",
    "\n",
    "# Separa los canales de color de la imagen\n",
    "b, g, r = cv.split(img)\n",
    "\n",
    "# Ecualiza el histograma de cada canal de color\n",
    "b_eq = cv.equalizeHist(b)\n",
    "g_eq = cv.equalizeHist(g)\n",
    "r_eq = cv.equalizeHist(r)\n",
    "\n",
    "# Combina los canales de nuevo en una sola imagen \n",
    "img_eq = cv.merge((b_eq, g_eq, r_eq))\n",
    "cv.imshow('Equalizada', img_eq)\n",
    "cv.waitKey(0)\n",
    "cv.destroyAllWindows\n",
    "cv.imwrite('ResultadoImagenes/4-Ecualizacion.png',img_eq)"
   ]
  },
  {
   "cell_type": "markdown",
   "id": "506c7d0e",
   "metadata": {},
   "source": [
    "B. El objetivo de la ecualización es mejorar el contraste en una imagen, la imagen resultante es:  \n",
    "![](ResultadoImagenes/ecualizacion.png)"
   ]
  },
  {
   "cell_type": "markdown",
   "id": "9f9f13c0",
   "metadata": {},
   "source": [
    "## 5.\tPara llevar a cabo el reconocimiento de placas es necesario antes localizarlas, existen una gran cantidad de condiciones que afectan una imagen como puede ser la iluminación, distancia y rotaciones, entre otros. Revisa las diferentes imágenes de coches que acompañan la actividad para que identifiques estos cambios. Para lograr el objetivo, hemos definido una metodología para encontrar placas candidatas en una imagen mediante técnicas tradicionales de procesamiento de imágenes, la metodología sugerida es la siguiente:\n",
    "\n",
    "Paso 1. Leer imagen a color y transformar la imagen de color a gris."
   ]
  },
  {
   "cell_type": "code",
   "execution_count": 17,
   "id": "25f5170b",
   "metadata": {},
   "outputs": [],
   "source": [
    "import cv2 as cv\n",
    "import numpy as np\n",
    "\n",
    "\n",
    "img_color = cv.imread('Imagenes/coche16.jpeg')\n",
    "img_gris = cv.imread('Imagenes/coche16.jpeg', cv.IMREAD_GRAYSCALE)"
   ]
  },
  {
   "cell_type": "markdown",
   "id": "9149afbc",
   "metadata": {},
   "source": [
    "Paso 2. Suavizar la imagen (filtro gaussiano con kernel de 11x11)."
   ]
  },
  {
   "cell_type": "code",
   "execution_count": 18,
   "id": "3ef966f4",
   "metadata": {},
   "outputs": [
    {
     "data": {
      "text/plain": [
       "True"
      ]
     },
     "execution_count": 18,
     "metadata": {},
     "output_type": "execute_result"
    }
   ],
   "source": [
    "blur = cv.GaussianBlur(img_gris, (11, 11), 0)\n",
    "cv.imshow(\"Gaussiano\", blur)\n",
    "cv.imwrite('ResultadoImagenes/5.1-Gaussiano.png',blur)"
   ]
  },
  {
   "cell_type": "markdown",
   "id": "09960c89",
   "metadata": {},
   "source": [
    "Paso 3. Mejora de contraste (ajuste local de contraste adaptativo)."
   ]
  },
  {
   "cell_type": "code",
   "execution_count": 19,
   "id": "76ef9d53",
   "metadata": {},
   "outputs": [
    {
     "data": {
      "text/plain": [
       "True"
      ]
     },
     "execution_count": 19,
     "metadata": {},
     "output_type": "execute_result"
    }
   ],
   "source": [
    "clahe = cv.createCLAHE(clipLimit=1.5, tileGridSize=(8,8))\n",
    "equ01 = clahe.apply(blur)\n",
    "cv.imshow(\"Ajuste de contraste\", equ01)\n",
    "cv.imwrite('ResultadoImagenes/5.2-Ajuste_de_contraste.png',equ01)"
   ]
  },
  {
   "cell_type": "markdown",
   "id": "0c335a72",
   "metadata": {},
   "source": [
    "Paso 4. Binarizar la imagen (Otsu)."
   ]
  },
  {
   "cell_type": "code",
   "execution_count": 20,
   "id": "c9918605",
   "metadata": {},
   "outputs": [
    {
     "data": {
      "text/plain": [
       "True"
      ]
     },
     "execution_count": 20,
     "metadata": {},
     "output_type": "execute_result"
    }
   ],
   "source": [
    "otsu_threshold, otsu01 = cv.threshold( equ01, 0, 255, cv.THRESH_OTSU)\n",
    "cv.imshow(\"Imagen binarizada\", otsu01)\n",
    "cv.imwrite('ResultadoImagenes/5.3-Imagen_binarizada.png',otsu01)"
   ]
  },
  {
   "cell_type": "markdown",
   "id": "ec8ba790",
   "metadata": {},
   "source": [
    "Paso 5. Obtener bordes (CANNY)."
   ]
  },
  {
   "cell_type": "code",
   "execution_count": 21,
   "id": "e3c0e91c",
   "metadata": {},
   "outputs": [
    {
     "data": {
      "text/plain": [
       "True"
      ]
     },
     "execution_count": 21,
     "metadata": {},
     "output_type": "execute_result"
    }
   ],
   "source": [
    "edges = cv.Canny(otsu01, 150, 350)\n",
    "cv.imshow(\"Canny\", edges)\n",
    "cv.imwrite('ResultadoImagenes/5.4-Canny.png',edges)"
   ]
  },
  {
   "cell_type": "markdown",
   "id": "294ccd09",
   "metadata": {},
   "source": [
    "Paso 6. Guardar bordes."
   ]
  },
  {
   "cell_type": "code",
   "execution_count": 22,
   "id": "af0a031b",
   "metadata": {},
   "outputs": [],
   "source": [
    "contours, hierarchy = cv.findContours(edges, cv.RETR_EXTERNAL, cv.CHAIN_APPROX_SIMPLE)\n",
    "long_contours = [cnt for cnt in contours if (cv.arcLength(cnt, True) > 200\n",
    "                                             and (cv.arcLength(cnt, True) < 700 ))]"
   ]
  },
  {
   "cell_type": "markdown",
   "id": "24cc60f5",
   "metadata": {},
   "source": [
    "Paso 7. Dibujar placas candidatas."
   ]
  },
  {
   "cell_type": "code",
   "execution_count": 23,
   "id": "84e4ad30",
   "metadata": {},
   "outputs": [],
   "source": [
    "alto, ancho, canales = img_color.shape\n",
    "for lonc in (long_contours):\n",
    "    r = [x for [[x,y]] in lonc]\n",
    "    s = [y for [[x,y]] in lonc]\n",
    "    prop = (max(s)-min(s))-(max(r)-min(r))\n",
    "\n",
    "    if ((max(s)>round(alto/2)) and prop<0):\n",
    "        cv.rectangle(img_color,(min(r),min(s)),(max(r),max(s)),(0,255,0),3)"
   ]
  },
  {
   "cell_type": "markdown",
   "id": "727927a1",
   "metadata": {},
   "source": [
    "Paso 8. Cerrar ventanas y terminar."
   ]
  },
  {
   "cell_type": "code",
   "execution_count": 24,
   "id": "4ba356d9",
   "metadata": {},
   "outputs": [
    {
     "data": {
      "text/plain": [
       "True"
      ]
     },
     "execution_count": 24,
     "metadata": {},
     "output_type": "execute_result"
    }
   ],
   "source": [
    "cv. imshow(\"Imagen resultante\", img_color)\n",
    "cv.waitKey()\n",
    "cv.destroyAllWindows()\n",
    "cv.imwrite('ResultadoImagenes/5.5-Imagen_resultante.png',img_color)"
   ]
  },
  {
   "cell_type": "markdown",
   "id": "f5110da1",
   "metadata": {},
   "source": [
    "Al ejecutar el código para la imagen coche16.jpeg, ¿cuál es la salida para los pasos 2, 3 , 4 y 5? Relaciona las columnas."
   ]
  },
  {
   "cell_type": "markdown",
   "id": "3d034ca7",
   "metadata": {},
   "source": [
    "| Imagen | Paso |\n",
    "|---------|-----|\n",
    "|Imagen 1  \n",
    "![Imagen binarizada paso 4](ResultadoImagenes/5.3-Imagen_binarizada.png)| Paso 4 |\n",
    "|Imagen 2  \n",
    "![Imagen binarizada paso 4](ResultadoImagenes/5.4-Canny.png)| Paso 5 |\n",
    "|Imagen 3  \n",
    "![Imagen binarizada paso 4](ResultadoImagenes/5.2-Ajuste_de_contraste.png)| Paso 3 |\n",
    "|Imagen 4  \n",
    "![Imagen binarizada paso 4](ResultadoImagenes/5.1-Gaussiano.png)| Paso 2 |"
   ]
  },
  {
   "cell_type": "markdown",
   "id": "1edddd58",
   "metadata": {},
   "source": [
    "## 6.\tUtilizando el siguiente algoritmo:\n",
    "Paso 1. Leer imagen a color y transformar la imagen de color a gris."
   ]
  },
  {
   "cell_type": "code",
   "execution_count": 2,
   "id": "d3677198",
   "metadata": {},
   "outputs": [],
   "source": [
    "import cv2 as cv\n",
    "import numpy as np\n",
    "\n",
    "\n",
    "img_color = cv.imread('Imagenes/coche16.jpeg')\n",
    "img_gris = cv.imread('Imagenes/coche16.jpeg', cv.IMREAD_GRAYSCALE)"
   ]
  },
  {
   "cell_type": "markdown",
   "id": "53c854f5",
   "metadata": {},
   "source": [
    "Paso 2. Suavizar la imagen (filtro gaussiano con kernel de 11x11)."
   ]
  },
  {
   "cell_type": "code",
   "execution_count": 3,
   "id": "5a43c18e",
   "metadata": {},
   "outputs": [],
   "source": [
    "blur = cv.GaussianBlur(img_gris, (11, 11), 0)\n",
    "cv.imshow(\"Gausiano\",blur)"
   ]
  },
  {
   "cell_type": "markdown",
   "id": "39707ab9",
   "metadata": {},
   "source": [
    "Paso 3. Mejora de contraste (ajuste local de contraste adaptativo)."
   ]
  },
  {
   "cell_type": "code",
   "execution_count": 4,
   "id": "5a9d9a86",
   "metadata": {},
   "outputs": [],
   "source": [
    "clahe = cv.createCLAHE(clipLimit=1.5, tileGridSize=(8,8))\n",
    "equ01 = clahe.apply(blur)\n",
    "cv.imshow(\"Ajuste de contraste\", equ01)"
   ]
  },
  {
   "cell_type": "markdown",
   "id": "3dba42f3",
   "metadata": {},
   "source": [
    "Paso 4. Binarizar la imagen (Otsu)."
   ]
  },
  {
   "cell_type": "code",
   "execution_count": 5,
   "id": "c6c73169",
   "metadata": {},
   "outputs": [],
   "source": [
    "otsu_threshold, otsu01 = cv.threshold( equ01, 0, 255, cv.THRESH_OTSU)\n",
    "cv.imshow(\"Imagen binarizada\", otsu01)"
   ]
  },
  {
   "cell_type": "markdown",
   "id": "5b2ebf6b",
   "metadata": {},
   "source": [
    "Paso 5. Obtener bordes (CANNY)."
   ]
  },
  {
   "cell_type": "code",
   "execution_count": 6,
   "id": "750dffe1",
   "metadata": {},
   "outputs": [],
   "source": [
    "edges = cv.Canny(otsu01, 150, 350)\n",
    "cv.imshow(\"Canny\", edges)"
   ]
  },
  {
   "cell_type": "markdown",
   "id": "60e0c179",
   "metadata": {},
   "source": [
    "Paso 6. Guardar bordes."
   ]
  },
  {
   "cell_type": "code",
   "execution_count": 7,
   "id": "7546e862",
   "metadata": {},
   "outputs": [],
   "source": [
    "contours, hierarchy = cv.findContours(edges, cv.RETR_EXTERNAL, cv.CHAIN_APPROX_SIMPLE)\n",
    "long_contours = [cnt for cnt in contours if (cv.arcLength(cnt, True) > 200\n",
    "                                             and (cv.arcLength(cnt, True) < 700 ))]"
   ]
  },
  {
   "cell_type": "markdown",
   "id": "882b3075",
   "metadata": {},
   "source": [
    "Paso 7. Dibujar placas candidatas."
   ]
  },
  {
   "cell_type": "code",
   "execution_count": 8,
   "id": "a96f11a3",
   "metadata": {},
   "outputs": [],
   "source": [
    "alto, ancho, canales = img_color.shape\n",
    "for lonc in (long_contours):\n",
    "    r = [x for [[x,y]] in lonc]\n",
    "    s = [y for [[x,y]] in lonc]\n",
    "    prop = (max(s)-min(s))-(max(r)-min(r))\n",
    "\n",
    "    if ((max(s)>round(alto/2)) and prop<0):\n",
    "        cv.rectangle(img_color,(min(r),min(s)),(max(r),max(s)),(0,255,0),3)"
   ]
  },
  {
   "cell_type": "markdown",
   "id": "07f3603b",
   "metadata": {},
   "source": [
    "Paso 8. Cerrar ventanas y terminar."
   ]
  },
  {
   "cell_type": "code",
   "execution_count": 9,
   "id": "80d82550",
   "metadata": {},
   "outputs": [],
   "source": [
    "cv.imshow(\"Imagen resultante\", img_color)\n",
    "cv.waitKey()\n",
    "cv.destroyAllWindows()"
   ]
  },
  {
   "cell_type": "markdown",
   "id": "387cd354",
   "metadata": {},
   "source": [
    "Si eliminamos el paso 2 de filtro gaussiano y lo aplicamos a la imagen coche14.jpeg, el resultado es:  \n",
    "A. No detecta la placa.  \n",
    "**B. Detecta más de cinco candidatos a placa.✅**   \n",
    "C. Detecta exclusivamente la placa.  \n",
    "D. Detecta tres candidatos de placa.  \n",
    "\n",
    "### Desmostracion:"
   ]
  },
  {
   "cell_type": "code",
   "execution_count": null,
   "id": "a529c073",
   "metadata": {},
   "outputs": [
    {
     "data": {
      "text/plain": [
       "True"
      ]
     },
     "execution_count": 13,
     "metadata": {},
     "output_type": "execute_result"
    }
   ],
   "source": [
    "# Paso 1. Leer imagen a color y transformar la imagen de color a gris.\n",
    "import cv2 as cv\n",
    "import numpy as np\n",
    "\n",
    "img_color = cv.imread('Imagenes/coche14.jpeg')\n",
    "img_gris = cv.imread('Imagenes/coche14.jpeg', cv.IMREAD_GRAYSCALE)\n",
    "# Paso 2. Suavizar la imagen (filtro gaussiano con kernel de 11x11).\n",
    "\"\"\"blur = cv.GaussianBlur(img_gris, (11, 11), 0)\n",
    "cv.imshow(\"Gausiano\",blur)\"\"\"\n",
    "# Paso 3. Mejora de contraste (ajuste local de contraste adaptativo).\n",
    "clahe = cv.createCLAHE(clipLimit=1.5, tileGridSize=(8,8))\n",
    "equ01 = clahe.apply(img_gris)\n",
    "cv.imshow(\"Ajuste de contraste\", equ01)\n",
    "# Paso 4. Binarizar la imagen (Otsu).\n",
    "otsu_threshold, otsu01 = cv.threshold( equ01, 0, 255, cv.THRESH_OTSU)\n",
    "cv.imshow(\"Imagen binarizada\", otsu01)\n",
    "# Paso 5. Obtener bordes (CANNY).\n",
    "edges = cv.Canny(otsu01, 150, 350)\n",
    "cv.imshow(\"Canny\", edges)\n",
    "# Paso 6. Guardar bordes.\n",
    "contours, hierarchy = cv.findContours(edges, cv.RETR_EXTERNAL, cv.CHAIN_APPROX_SIMPLE)\n",
    "long_contours = [cnt for cnt in contours if (cv.arcLength(cnt, True) > 200\n",
    "                                             and (cv.arcLength(cnt, True) < 700 ))]\n",
    "# Paso 7. Dibujar placas candidatas.\n",
    "alto, ancho, canales = img_color.shape\n",
    "for lonc in (long_contours):\n",
    "    r = [x for [[x,y]] in lonc]\n",
    "    s = [y for [[x,y]] in lonc]\n",
    "    prop = (max(s)-min(s))-(max(r)-min(r))\n",
    "\n",
    "    if ((max(s)>round(alto/2)) and prop<0):\n",
    "        cv.rectangle(img_color,(min(r),min(s)),(max(r),max(s)),(0,255,0),3)\n",
    "#Paso 8. Cerrar ventanas y terminar.\n",
    "cv.imshow(\"Imagen resultante\", img_color)\n",
    "cv.waitKey()\n",
    "cv.destroyAllWindows()"
   ]
  },
  {
   "cell_type": "markdown",
   "id": "9b67bce7",
   "metadata": {},
   "source": [
    "| Sin paso 2 de filtro gaussiano | Con paso 2 de filtro gaussiano |\n",
    "|--------------------------------|--------------------------------|\n",
    "| ![](ResultadoImagenes/6.2-Imagen_res_Sin_Gaussiano.png) | ![](ResultadoImagenes/6.1-Imagen_res_Gaussiano.png) |"
   ]
  },
  {
   "cell_type": "markdown",
   "id": "33f75ff2",
   "metadata": {},
   "source": [
    "## 7. Utilizando el siguiente algoritmo Si incluimos todos los pasos y lo aplicamos a la imagen coche14.jpeg, el resultado es:\n",
    "**A. Solo detecta la placa.**  \n",
    "**B. Detecta tres candidatos a placa.**  \n",
    "**<ins>C. Detecta dos candidatos a placa.</ins>✅**  \n",
    "**D. No detecta ninguna placa.**  \n",
    "\n",
    "\n",
    "Paso 1. Leer imagen a color y transformar la imagen de color a gris.\n",
    "```python\n",
    "1  import cv2 as cv\n",
    "2  import numpy as np\n",
    "3  \n",
    "4  \n",
    "5  img_color = cv.imread('Imagenes/coche14.jpeg')\n",
    "6  img_gris = cv.imread('Imagenes/coche14.jpeg', cv.IMREAD_GRAYSCALE)\n",
    "```\n",
    "Paso 2. Suavizar la imagen (filtro gaussiano con kernel de 11x11).\n",
    "```python\n",
    "8  blur = cv.GaussianBlur(img_gris, (11, 11), 0)\n",
    "9  cv.imshow(\"Gausiano\",blur)\n",
    "```\n",
    "Paso 3. Mejora de contraste (ajuste local de contraste adaptativo).\n",
    "```python\n",
    "11  clahe = cv.createCLAHE(clipLimit=1.5, tileGridSize=(8,8))\n",
    "12  equ01 = clahe.apply(blur)\n",
    "13  cv.imshow(\"Ajuste de contraste\", equ01)\n",
    "```\n",
    "Paso 4. Binarizar la imagen (Otsu).\n",
    "```python\n",
    "15  otsu_threshold, otsu01 = cv.threshold( equ01, 0, 255, cv.THRESH_OTSU)\n",
    "16  cv.imshow(\"Imagen binarizada\", otsu01)\n",
    "```\n",
    "Paso 5. Obtener bordes (CANNY).\n",
    "```python\n",
    "18  edges = cv.Canny(otsu01, 150, 350)\n",
    "19  cv.imshow(\"Canny\", edges)\n",
    "```\n",
    "Paso 6. Guardar bordes.\n",
    "```python\n",
    "21  contours, hierarchy = cv.findContours(edges, cv.RETR_EXTERNAL, cv.CHAIN_APPROX_SIMPLE)\n",
    "22  long_contours = [cnt for cnt in contours if (cv.arcLength(cnt, True) > 200\n",
    "23                                               and (cv.arcLength(cnt, True) < 700 ))]\n",
    "```\n",
    "Paso 7. Dibujar placas candidatas.\n",
    "```python\n",
    "25  alto, ancho, canales = img_color.shape\n",
    "26  for lonc in (long_contours):\n",
    "27      r = [x for [[x,y]] in lonc]\n",
    "28      s = [y for [[x,y]] in lonc]\n",
    "29      prop = (max(s)-min(s))-(max(r)-min(r))\n",
    "30  \n",
    "31      if ((max(s)>round(alto/2)) and prop<0):\n",
    "32          cv.rectangle(img_color,(min(r),min(s)),(max(r),max(s)),(0,255,0),3)\n",
    "```\n",
    "Paso 8. Cerrar ventanas y terminar.\n",
    "```python\n",
    "34  cv.imshow(\"Imagen resultante\", img_color)\n",
    "35  cv.waitKey()\n",
    "36  cv.destroyAllWindows()\n",
    "```\n",
    "\n",
    "### Demostración\n"
   ]
  },
  {
   "cell_type": "code",
   "execution_count": null,
   "id": "51d04741",
   "metadata": {},
   "outputs": [
    {
     "data": {
      "text/plain": [
       "True"
      ]
     },
     "execution_count": 15,
     "metadata": {},
     "output_type": "execute_result"
    }
   ],
   "source": [
    "# Paso 1. Leer imagen a color y transformar la imagen de color a gris.\n",
    "import cv2 as cv\n",
    "import numpy as np\n",
    "\n",
    "img_color = cv.imread('Imagenes/coche14.jpeg')\n",
    "img_gris = cv.imread('Imagenes/coche14.jpeg', cv.IMREAD_GRAYSCALE)\n",
    "# Paso 2. Suavizar la imagen (filtro gaussiano con kernel de 11x11).\n",
    "blur = cv.GaussianBlur(img_gris, (11, 11), 0)\n",
    "cv.imshow(\"Gausiano\",blur)\n",
    "# Paso 3. Mejora de contraste (ajuste local de contraste adaptativo).\n",
    "clahe = cv.createCLAHE(clipLimit=1.5, tileGridSize=(8,8))\n",
    "equ01 = clahe.apply(blur)\n",
    "cv.imshow(\"Ajuste de contraste\", equ01)\n",
    "# Paso 4. Binarizar la imagen (Otsu).\n",
    "otsu_threshold, otsu01 = cv.threshold( equ01, 0, 255, cv.THRESH_OTSU)\n",
    "cv.imshow(\"Imagen binarizada\", otsu01)\n",
    "# Paso 5. Obtener bordes (CANNY).\n",
    "edges = cv.Canny(otsu01, 150, 350)\n",
    "cv.imshow(\"Canny\", edges)\n",
    "# Paso 6. Guardar bordes.\n",
    "contours, hierarchy = cv.findContours(edges, cv.RETR_EXTERNAL, cv.CHAIN_APPROX_SIMPLE)\n",
    "long_contours = [cnt for cnt in contours if (cv.arcLength(cnt, True) > 200\n",
    "                                             and (cv.arcLength(cnt, True) < 700 ))]\n",
    "# Paso 7. Dibujar placas candidatas.\n",
    "alto, ancho, canales = img_color.shape\n",
    "for lonc in (long_contours):\n",
    "    r = [x for [[x,y]] in lonc]\n",
    "    s = [y for [[x,y]] in lonc]\n",
    "    prop = (max(s)-min(s))-(max(r)-min(r))\n",
    "\n",
    "    if ((max(s)>round(alto/2)) and prop<0):\n",
    "        cv.rectangle(img_color,(min(r),min(s)),(max(r),max(s)),(0,255,0),3)\n",
    "#Paso 8. Cerrar ventanas y terminar.\n",
    "cv.imshow(\"Imagen resultante\", img_color)\n",
    "cv.waitKey()\n",
    "cv.destroyAllWindows()"
   ]
  },
  {
   "cell_type": "markdown",
   "id": "04de6a6c",
   "metadata": {},
   "source": [
    "##### Imagen resultante:  \n",
    "![7 Imagen resultante](ResultadoImagenes/7-Imagen_resultante.png)"
   ]
  },
  {
   "cell_type": "markdown",
   "id": "be0f2cf8",
   "metadata": {},
   "source": []
  }
 ],
 "metadata": {
  "kernelspec": {
   "display_name": "Python 3",
   "language": "python",
   "name": "python3"
  },
  "language_info": {
   "codemirror_mode": {
    "name": "ipython",
    "version": 3
   },
   "file_extension": ".py",
   "mimetype": "text/x-python",
   "name": "python",
   "nbconvert_exporter": "python",
   "pygments_lexer": "ipython3",
   "version": "3.10.8"
  }
 },
 "nbformat": 4,
 "nbformat_minor": 5
}
